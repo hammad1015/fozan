{
 "cells": [
  {
   "cell_type": "markdown",
   "metadata": {},
   "source": [
    "# Assignment 2  (4Dv652 course)\n",
    "\n",
    "This assignment conatins tasks taken from \"An Introduction to Statistical Leanring\" book (https://www.statlearning.com/)\n"
   ]
  },
  {
   "cell_type": "markdown",
   "metadata": {},
   "source": [
    "# Exercise 1\n",
    "This exercise relates to the __College__ data set, which can be found in\n",
    "the file URL: https://github.com/shifteight/R-lang/blob/master/ISLR/College.csv. \n",
    "It contains a number of variables for 777 different\n",
    "universities and colleges in the US. \n",
    "The variables are:\n",
    "\n",
    "* Private : Public/private indicator\n",
    "* Apps : Number of applications received\n",
    "* Accept : Number of applicants accepted\n",
    "* Enroll : Number of new students enrolled\n",
    "* Top10perc : New students from top 10% of high school class\n",
    "* Top25perc : New students from top 25% of high school class\n",
    "* F.Undergrad : Number of full-time undergraduates\n",
    "* P.Undergrad : Number of part-time undergraduates\n",
    "* Outstate : Out-of-state tuition\n",
    "* Room.Board : Room and board costs\n",
    "* Books : Estimated book costs\n",
    "* Personal : Estimated personal spending\n",
    "* PhD : Percent of faculty with Ph.D.’s\n",
    "* Terminal : Percent of faculty with terminal degree\n",
    "* S.F.Ratio : Student/faculty ratio\n",
    "* perc.alumni : Percent of alumni who donate\n",
    "* Expend : Instructional expenditure per student\n",
    "* Grad.Rate : Graduation rate\n"
   ]
  },
  {
   "cell_type": "markdown",
   "metadata": {},
   "source": [
    "(a) Use the ```pd.read_csv()``` function to read the data into Pandas dataframe.  Make sure that you have the directory set\n",
    "to the correct location for the data."
   ]
  },
  {
   "cell_type": "code",
   "execution_count": null,
   "metadata": {},
   "outputs": [],
   "source": [
    "#your code here"
   ]
  },
  {
   "cell_type": "markdown",
   "metadata": {},
   "source": [
    "(b) Use the ```describe()``` function to produce a numerical summary\n",
    "of the variables in the data set."
   ]
  },
  {
   "cell_type": "code",
   "execution_count": null,
   "metadata": {},
   "outputs": [],
   "source": [
    "#your code here"
   ]
  },
  {
   "cell_type": "markdown",
   "metadata": {},
   "source": [
    "(c)Use the ```seaborn.pairplot()``` function to produce a scatterplot matrix of\n",
    "the first ten columns or variables of the data. Recall that\n",
    "you can reference the first ten columns of a matrix A using ```iloc(A[,1:10])``` function."
   ]
  },
  {
   "cell_type": "code",
   "execution_count": null,
   "metadata": {},
   "outputs": [],
   "source": [
    "#your code here"
   ]
  },
  {
   "cell_type": "markdown",
   "metadata": {},
   "source": [
    "(d) Use the ```seaborn.boxplot()``` function to produce side-by-side boxplots of\n",
    "**Outstate** versus **Private** universities. "
   ]
  },
  {
   "cell_type": "code",
   "execution_count": null,
   "metadata": {},
   "outputs": [],
   "source": [
    "#your code here"
   ]
  },
  {
   "cell_type": "markdown",
   "metadata": {},
   "source": [
    "(e) Use the ```hist()``` function to produce some histograms with\n",
    "differing numbers of bins for a few of the quantitative variables.\n",
    "You may find the command ```plt.figure(figsize = (15,20))``` useful."
   ]
  },
  {
   "cell_type": "code",
   "execution_count": null,
   "metadata": {},
   "outputs": [],
   "source": [
    "#your code here"
   ]
  },
  {
   "cell_type": "markdown",
   "metadata": {},
   "source": [
    "(f) Based on the plots above provide a brief summary\n",
    "of what you discover from the College dataset."
   ]
  },
  {
   "cell_type": "code",
   "execution_count": null,
   "metadata": {},
   "outputs": [],
   "source": [
    "#your text here as markdown cell"
   ]
  },
  {
   "cell_type": "markdown",
   "metadata": {},
   "source": [
    "# Exercise 2\n",
    "This exercise involves the Auto data set studied in the lab (https://github.com/shifteight/R-lang/blob/master/ISLR/Auto.csv). Make sure\n",
    "that the missing values have been removed from the data.\n",
    "\n",
    "(a) Use the ```pd.read_csv()``` function to read the data into Pandas dataframe. Make sure you do not have Unnamed columns. You can use ```drop(columns='Unnamed: 0')``` function to remove such column. "
   ]
  },
  {
   "cell_type": "code",
   "execution_count": 2,
   "metadata": {},
   "outputs": [],
   "source": [
    "#your code here"
   ]
  },
  {
   "cell_type": "markdown",
   "metadata": {},
   "source": [
    "(b) Display/named quantative predictors/variables, and which one are qualitative predictors/variables (categorical)? \n",
    "\n"
   ]
  },
  {
   "cell_type": "code",
   "execution_count": null,
   "metadata": {},
   "outputs": [],
   "source": [
    "#your code/text here"
   ]
  },
  {
   "cell_type": "markdown",
   "metadata": {},
   "source": [
    "(c) What is the range of each quantitative predictor? What is the mean and standard deviation of each quantitative\n",
    "predictor? You can answer\n",
    "this using the ```describe()``` function."
   ]
  },
  {
   "cell_type": "code",
   "execution_count": null,
   "metadata": {},
   "outputs": [],
   "source": [
    "#your code here"
   ]
  },
  {
   "cell_type": "markdown",
   "metadata": {},
   "source": [
    "(d) Now remove the 10th through 85th observations. What is the\n",
    "range, mean, and standard deviation of each predictor in the\n",
    "subset of the data that remains? The ```drop(dataset.index[])``` function may help. "
   ]
  },
  {
   "cell_type": "code",
   "execution_count": null,
   "metadata": {},
   "outputs": [],
   "source": [
    "#your code here"
   ]
  },
  {
   "cell_type": "markdown",
   "metadata": {},
   "source": [
    "(e) Suppose that we wish to predict gas mileage (**mpg**) on the basis\n",
    "of the other variables. Which variables you suggest that  might be useful in predicting mpg? You may use scatterplots or other tools of your choice for this task. Justify your\n",
    "answer. "
   ]
  },
  {
   "cell_type": "code",
   "execution_count": null,
   "metadata": {},
   "outputs": [],
   "source": [
    "#your code/text here"
   ]
  },
  {
   "cell_type": "markdown",
   "metadata": {},
   "source": [
    "# Exercise 3\n",
    "\n",
    "This exercise involves the Boston housing data set (can be found at the following URL:  https://github.com/vincentarelbundock/Rdatasets/blob/master/csv/MASS/Boston.csv) \n",
    "\n",
    "The Boston Housing Dataset is a derived from information collected by the U.S. Census Service concerning housing in the area of Boston MA. The following describes the dataset columns:\n",
    "\n",
    "* CRIM - per capita crime rate by town\n",
    "* ZN - proportion of residential land zoned for lots over 25,000 sq.ft.\n",
    "* INDUS - proportion of non-retail business acres per town.\n",
    "* CHAS - Charles River dummy variable (1 if tract bounds river; 0 otherwise)\n",
    "* NOX - nitric oxides concentration (parts per 10 million)\n",
    "* RM - average number of rooms per dwelling\n",
    "* AGE - proportion of owner-occupied units built prior to 1940\n",
    "* DIS - weighted distances to five Boston employment centres\n",
    "* RAD - index of accessibility to radial highways\n",
    "* TAX - full-value property-tax rate per \\$10,000\n",
    "* PTRATIO - pupil-teacher ratio by town\n",
    "* B - 1000(Bk - 0.63)^2 where Bk is the proportion of blacks by town\n",
    "* LSTAT - \\% lower status of the population\n",
    "* MEDV - Median value of owner-occupied homes in $1000's\n",
    "\n",
    "(a) To begin, load in the Boston data set."
   ]
  },
  {
   "cell_type": "code",
   "execution_count": null,
   "metadata": {},
   "outputs": [],
   "source": [
    "#your code "
   ]
  },
  {
   "cell_type": "markdown",
   "metadata": {},
   "source": [
    "(b) Make some pairwise scatterplots of the predictors (columns) in\n",
    "this data set. Describe your findings."
   ]
  },
  {
   "cell_type": "code",
   "execution_count": 3,
   "metadata": {},
   "outputs": [],
   "source": [
    "#your code and text "
   ]
  },
  {
   "cell_type": "markdown",
   "metadata": {},
   "source": [
    "(c) Are any of the predictors associated with **per capita crime rate**?\n",
    "If so, explain the relationship."
   ]
  },
  {
   "cell_type": "code",
   "execution_count": null,
   "metadata": {},
   "outputs": [],
   "source": [
    "#your answer "
   ]
  },
  {
   "cell_type": "markdown",
   "metadata": {},
   "source": [
    "(d) Do any of the suburbs of Boston appear to have particularly\n",
    "high crime rates? Tax rates? Pupil-teacher ratios? Comment on\n",
    "the range of each predictor."
   ]
  },
  {
   "cell_type": "code",
   "execution_count": null,
   "metadata": {},
   "outputs": [],
   "source": [
    "#your answer "
   ]
  },
  {
   "cell_type": "markdown",
   "metadata": {},
   "source": [
    "(e) How many of the suburbs in this data set bound the Charles\n",
    "river?"
   ]
  },
  {
   "cell_type": "code",
   "execution_count": null,
   "metadata": {},
   "outputs": [],
   "source": [
    "#your code and answer "
   ]
  },
  {
   "cell_type": "markdown",
   "metadata": {},
   "source": [
    "(f) In this data set, how many of the suburbs average more than\n",
    "seven rooms per dwelling? More than eight rooms per dwelling?\n",
    "Comment on the suburbs that average more than eight rooms\n",
    "per dwelling."
   ]
  },
  {
   "cell_type": "code",
   "execution_count": null,
   "metadata": {},
   "outputs": [],
   "source": [
    "#your code and answer "
   ]
  }
 ],
 "metadata": {
  "kernelspec": {
   "display_name": "base",
   "language": "python",
   "name": "python3"
  },
  "language_info": {
   "codemirror_mode": {
    "name": "ipython",
    "version": 3
   },
   "file_extension": ".py",
   "mimetype": "text/x-python",
   "name": "python",
   "nbconvert_exporter": "python",
   "pygments_lexer": "ipython3",
   "version": "3.8.16"
  },
  "vscode": {
   "interpreter": {
    "hash": "3d597f4c481aa0f25dceb95d2a0067e73c0966dcbd003d741d821a7208527ecf"
   }
  }
 },
 "nbformat": 4,
 "nbformat_minor": 2
}
